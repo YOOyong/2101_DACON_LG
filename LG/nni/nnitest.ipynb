{
 "cells": [
  {
   "cell_type": "code",
   "execution_count": 14,
   "metadata": {},
   "outputs": [
    {
     "name": "stdout",
     "output_type": "stream",
     "text": [
      "INFO:  expand searchSpacePath: search_space.json to C:\\Users\\YONG\\ML\\LG\\nni\\search_space.json \n",
      "INFO:  expand codeDir: . to C:\\Users\\YONG\\ML\\LG\\nni\\. \n",
      "INFO:  Starting restful server...\n",
      "INFO:  Successfully started Restful server!\n",
      "INFO:  Setting local config...\n",
      "INFO:  Successfully set local config!\n",
      "INFO:  Starting experiment...\n",
      "INFO:  Successfully started experiment!\n",
      "------------------------------------------------------------------------------------\n",
      "The experiment id is D7pZ9tPf\n",
      "The Web UI urls are: http://192.168.219.100:8080   http://169.254.214.119:8080   http://172.18.112.1:8080   http://127.0.0.1:8080\n",
      "------------------------------------------------------------------------------------\n",
      "\n",
      "You can use these commands to get more information about the experiment\n",
      "------------------------------------------------------------------------------------\n",
      "         commands                       description\n",
      "1. nnictl experiment show        show the information of experiments\n",
      "2. nnictl trial ls               list all of trial jobs\n",
      "3. nnictl top                    monitor the status of running experiments\n",
      "4. nnictl log stderr             show stderr log content\n",
      "5. nnictl log stdout             show stdout log content\n",
      "6. nnictl stop                   stop an experiment\n",
      "7. nnictl trial kill             kill a trial job by id\n",
      "8. nnictl --help                 get help information about nnictl\n",
      "------------------------------------------------------------------------------------\n",
      "Command reference document https://nni.readthedocs.io/en/latest/Tutorial/Nnictl.html\n",
      "------------------------------------------------------------------------------------\n",
      "\n"
     ]
    }
   ],
   "source": [
    "! nnictl create --config ./config.yml"
   ]
  },
  {
   "cell_type": "code",
   "execution_count": 15,
   "metadata": {},
   "outputs": [
    {
     "name": "stdout",
     "output_type": "stream",
     "text": [
      "INFO:  Stopping experiment D7pZ9tPf\n",
      "INFO:  Stop experiment success.\n"
     ]
    }
   ],
   "source": [
    "!nnictl stop"
   ]
  },
  {
   "cell_type": "code",
   "execution_count": null,
   "metadata": {},
   "outputs": [],
   "source": []
  }
 ],
 "metadata": {
  "kernelspec": {
   "display_name": "Python 3",
   "language": "python",
   "name": "python3"
  },
  "language_info": {
   "codemirror_mode": {
    "name": "ipython",
    "version": 3
   },
   "file_extension": ".py",
   "mimetype": "text/x-python",
   "name": "python",
   "nbconvert_exporter": "python",
   "pygments_lexer": "ipython3",
   "version": "3.7.4"
  }
 },
 "nbformat": 4,
 "nbformat_minor": 4
}
